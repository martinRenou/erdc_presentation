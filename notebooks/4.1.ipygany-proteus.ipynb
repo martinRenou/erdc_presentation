{
 "cells": [
  {
   "cell_type": "markdown",
   "metadata": {},
   "source": [
    "# ipygany with proteus"
   ]
  },
  {
   "cell_type": "code",
   "execution_count": null,
   "metadata": {},
   "outputs": [],
   "source": [
    "from ipydatawidgets import NDArrayWidget\n",
    "\n",
    "from ipywidgets import Play, IntProgress, link, HBox\n",
    "\n",
    "from pythreejs import BoxGeometry, Mesh, MeshStandardMaterial, Side\n",
    "\n",
    "from ipygany import Scene, TetraMesh, Alpha, Threshold\n",
    "from ipygany.vtk_loader import load_vtk, get_ugrid_data"
   ]
  },
  {
   "cell_type": "code",
   "execution_count": null,
   "metadata": {},
   "outputs": [],
   "source": [
    "box = Mesh(\n",
    "    geometry=BoxGeometry(width=0.16, height=0.4, depth=0.16), \n",
    "    material=MeshStandardMaterial(color='lightgreen'),\n",
    "    position=(2.47, 0.5, 0.08),\n",
    ")\n",
    "\n",
    "boundaries = Mesh(\n",
    "    geometry=BoxGeometry(width=3.22, height=1., depth=1.), \n",
    "    material=MeshStandardMaterial(color='lightgray', side=Side.BackSide),\n",
    "    position=(1.61, 0.5, 0.5),\n",
    ")"
   ]
  },
  {
   "cell_type": "code",
   "execution_count": null,
   "metadata": {},
   "outputs": [],
   "source": [
    "# Caching arrays on the front-end using NDArrayWidgets\n",
    "phi = []\n",
    "p = []\n",
    "for i in range(77):\n",
    "    grid = load_vtk('proteus_vtu/proteus_{}.vtu'.format(i))\n",
    "    grid_data = get_ugrid_data(grid)\n",
    "    \n",
    "    phi_array = grid_data['phi']['X1']['array']\n",
    "    p_array = grid_data['p']['X1']['array']\n",
    "\n",
    "    phi.append(NDArrayWidget(array=phi_array))\n",
    "    p.append(NDArrayWidget(array=p_array))"
   ]
  },
  {
   "cell_type": "code",
   "execution_count": null,
   "metadata": {},
   "outputs": [],
   "source": [
    "mesh = TetraMesh.from_vtk('proteus_vtu/proteus_1.vtu', environment_meshes=[box, boundaries])\n",
    "\n",
    "phi_component = mesh['phi', 0]\n",
    "p_component = mesh['p', 0]\n",
    "\n",
    "def update_step(change):\n",
    "    step = change['new']\n",
    "    phi_component.array = phi[step]\n",
    "    p_component.array = p[step]\n",
    "\n",
    "play = Play(description='Step:', min=0, max=76, value=0, interval=40)\n",
    "play.observe(update_step, names=['value'])\n",
    "\n",
    "progress = IntProgress(value=0, step=1, min=0, max=76)\n",
    "link((progress, 'value'), (play, 'value'))\n",
    "\n",
    "threshold = Threshold(mesh, input='phi', min=-100, max=0, dynamic=True)\n",
    "wave = Alpha(threshold)\n",
    "\n",
    "stepper = HBox((play, progress))\n",
    "stepper"
   ]
  },
  {
   "cell_type": "code",
   "execution_count": null,
   "metadata": {},
   "outputs": [],
   "source": [
    "scene = Scene((wave, ))\n",
    "\n",
    "scene"
   ]
  }
 ],
 "metadata": {
  "kernelspec": {
   "display_name": "Python 3",
   "language": "python",
   "name": "python3"
  },
  "language_info": {
   "codemirror_mode": {
    "name": "ipython",
    "version": 3
   },
   "file_extension": ".py",
   "mimetype": "text/x-python",
   "name": "python",
   "nbconvert_exporter": "python",
   "pygments_lexer": "ipython3",
   "version": "3.7.3"
  }
 },
 "nbformat": 4,
 "nbformat_minor": 4
}
